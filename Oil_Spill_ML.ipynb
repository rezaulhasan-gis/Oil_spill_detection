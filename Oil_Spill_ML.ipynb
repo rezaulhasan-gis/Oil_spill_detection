{
 "cells": [
  {
   "cell_type": "code",
   "execution_count": 1,
   "id": "0d717b38-db78-4d9e-ab4f-23fb77fd412d",
   "metadata": {},
   "outputs": [],
   "source": [
    "# system packages \n",
    "import os \n",
    "import glob \n",
    "import pathlib as Path\n",
    "\n",
    "# python data and visualization packages\n",
    "import numpy as np\n",
    "import natsort  # For natural sorting of file paths\n",
    "import pandas as pd \n",
    "import seaborn as sns \n",
    "import matplotlib.pyplot as plt\n",
    "\n",
    "# image processing packages \n",
    "import cv2\n",
    "import imageio.v2 as imageio\n",
    "import skimage.io\n",
    "from skimage.transform import resize\n",
    "\n",
    "# machine learning libraries\n",
    "from imblearn.under_sampling import RandomUnderSampler\n",
    "from sklearn.ensemble import RandomForestClassifier\n",
    "from sklearn.metrics import accuracy_score, classification_report\n",
    "# Display\n",
    "pd.set_option('display.float_format', '{:.2f}'.format)"
   ]
  },
  {
   "cell_type": "markdown",
   "id": "ffa3b59e-6c49-489b-a6be-12379f338a2f",
   "metadata": {},
   "source": [
    "## Prepare data"
   ]
  },
  {
   "cell_type": "code",
   "execution_count": 10,
   "id": "fe7fdf9e-e0bf-4286-b3f4-67443f397793",
   "metadata": {},
   "outputs": [
    {
     "data": {
      "text/plain": [
       "((10444800, 3), (10444800, 3), (92160000, 5))"
      ]
     },
     "execution_count": 10,
     "metadata": {},
     "output_type": "execute_result"
    }
   ],
   "source": [
    "# image dataframe\n",
    "train_prq_path = \"oil_spill_training_dataset.parquet\"\n",
    "val_prq_path = \"oil_spill_validation_dataset.parquet\"\n",
    "datasets_2 = \"oil_spill_training_dataset-2.parquet\"\n",
    "train_df = pd.read_parquet(train_prq_path)\n",
    "train_df = pd.read_parquet(val_prq_path)\n",
    "train_df_2 = pd.read_parquet(datasets_2)\n",
    "train_df.shape, val_df.shape, train_df_2.shape"
   ]
  },
  {
   "cell_type": "code",
   "execution_count": 6,
   "id": "375c5649-86c6-4c37-aa82-ad2a2ba0a15e",
   "metadata": {},
   "outputs": [
    {
     "data": {
      "text/html": [
       "<div>\n",
       "<style scoped>\n",
       "    .dataframe tbody tr th:only-of-type {\n",
       "        vertical-align: middle;\n",
       "    }\n",
       "\n",
       "    .dataframe tbody tr th {\n",
       "        vertical-align: top;\n",
       "    }\n",
       "\n",
       "    .dataframe thead th {\n",
       "        text-align: right;\n",
       "    }\n",
       "</style>\n",
       "<table border=\"1\" class=\"dataframe\">\n",
       "  <thead>\n",
       "    <tr style=\"text-align: right;\">\n",
       "      <th></th>\n",
       "      <th>Red</th>\n",
       "      <th>labels</th>\n",
       "      <th>glcm</th>\n",
       "    </tr>\n",
       "  </thead>\n",
       "  <tbody>\n",
       "    <tr>\n",
       "      <th>count</th>\n",
       "      <td>92160000.00</td>\n",
       "      <td>92160000.00</td>\n",
       "      <td>92160000.00</td>\n",
       "    </tr>\n",
       "    <tr>\n",
       "      <th>mean</th>\n",
       "      <td>0.52</td>\n",
       "      <td>0.18</td>\n",
       "      <td>1.00</td>\n",
       "    </tr>\n",
       "    <tr>\n",
       "      <th>std</th>\n",
       "      <td>0.24</td>\n",
       "      <td>0.57</td>\n",
       "      <td>5.47</td>\n",
       "    </tr>\n",
       "    <tr>\n",
       "      <th>min</th>\n",
       "      <td>0.00</td>\n",
       "      <td>0.00</td>\n",
       "      <td>0.00</td>\n",
       "    </tr>\n",
       "    <tr>\n",
       "      <th>25%</th>\n",
       "      <td>0.35</td>\n",
       "      <td>0.00</td>\n",
       "      <td>0.00</td>\n",
       "    </tr>\n",
       "    <tr>\n",
       "      <th>50%</th>\n",
       "      <td>0.51</td>\n",
       "      <td>0.00</td>\n",
       "      <td>0.00</td>\n",
       "    </tr>\n",
       "    <tr>\n",
       "      <th>75%</th>\n",
       "      <td>0.69</td>\n",
       "      <td>0.00</td>\n",
       "      <td>1.00</td>\n",
       "    </tr>\n",
       "    <tr>\n",
       "      <th>max</th>\n",
       "      <td>1.00</td>\n",
       "      <td>4.00</td>\n",
       "      <td>24470.00</td>\n",
       "    </tr>\n",
       "  </tbody>\n",
       "</table>\n",
       "</div>"
      ],
      "text/plain": [
       "              Red      labels        glcm\n",
       "count 92160000.00 92160000.00 92160000.00\n",
       "mean         0.52        0.18        1.00\n",
       "std          0.24        0.57        5.47\n",
       "min          0.00        0.00        0.00\n",
       "25%          0.35        0.00        0.00\n",
       "50%          0.51        0.00        0.00\n",
       "75%          0.69        0.00        1.00\n",
       "max          1.00        4.00    24470.00"
      ]
     },
     "execution_count": 6,
     "metadata": {},
     "output_type": "execute_result"
    }
   ],
   "source": [
    "train_df.describe()"
   ]
  },
  {
   "cell_type": "code",
   "execution_count": 8,
   "id": "ec565226-eb13-4e02-b334-840fb5a571f7",
   "metadata": {},
   "outputs": [
    {
     "data": {
      "text/plain": [
       "(          Red  labels  glcm\n",
       " 0        0.65       0     0\n",
       " 1        0.98       0     0\n",
       " 2        0.68       0     0\n",
       " 3        0.65       0     0\n",
       " 4        0.78       0     0\n",
       " ...       ...     ...   ...\n",
       " 92159995 0.36       0     0\n",
       " 92159996 0.39       0     0\n",
       " 92159997 0.44       0     0\n",
       " 92159998 0.36       0     0\n",
       " 92159999 0.32       0     0\n",
       " \n",
       " [92160000 rows x 3 columns],\n",
       "           Red  labels  glcm\n",
       " 0        0.53       0    13\n",
       " 1        0.94       0     0\n",
       " 2        0.69       0     0\n",
       " 3        0.69       0     2\n",
       " 4        0.71       0     0\n",
       " ...       ...     ...   ...\n",
       " 10444795 0.35       0     0\n",
       " 10444796 0.34       0     0\n",
       " 10444797 0.41       0     0\n",
       " 10444798 0.41       0     0\n",
       " 10444799 0.47       0     0\n",
       " \n",
       " [10444800 rows x 3 columns])"
      ]
     },
     "execution_count": 8,
     "metadata": {},
     "output_type": "execute_result"
    }
   ],
   "source": [
    "train_df, val_df"
   ]
  },
  {
   "cell_type": "markdown",
   "id": "452ddeee-1d98-4202-a6ab-8ff3f8e4a144",
   "metadata": {},
   "source": [
    "## Model Development "
   ]
  },
  {
   "cell_type": "markdown",
   "id": "0a0ba82a-fc7d-40ef-ac9c-8b18535f7df8",
   "metadata": {},
   "source": [
    "### Model-1: Channel & Texture Feature Based"
   ]
  },
  {
   "cell_type": "markdown",
   "id": "0a2d5bb8-4283-468f-932a-d04d9b97b2c9",
   "metadata": {},
   "source": [
    "#### Train/Validation Feature & Target"
   ]
  },
  {
   "cell_type": "code",
   "execution_count": 5,
   "id": "cd1319b6-aa24-4e94-a0ab-20b39b0959b7",
   "metadata": {},
   "outputs": [
    {
     "ename": "KeyError",
     "evalue": "\"['chnl_red'] not in index\"",
     "output_type": "error",
     "traceback": [
      "\u001b[0;31m---------------------------------------------------------------------------\u001b[0m",
      "\u001b[0;31mKeyError\u001b[0m                                  Traceback (most recent call last)",
      "Cell \u001b[0;32mIn [5], line 1\u001b[0m\n\u001b[0;32m----> 1\u001b[0m X_train \u001b[38;5;241m=\u001b[39m train_df[[\u001b[38;5;124m'\u001b[39m\u001b[38;5;124mchnl_red\u001b[39m\u001b[38;5;124m'\u001b[39m, \u001b[38;5;124m'\u001b[39m\u001b[38;5;124mglcm\u001b[39m\u001b[38;5;124m'\u001b[39m]]\n\u001b[1;32m      2\u001b[0m y_train \u001b[38;5;241m=\u001b[39m train_df[\u001b[38;5;124m'\u001b[39m\u001b[38;5;124mlabels\u001b[39m\u001b[38;5;124m'\u001b[39m]\n\u001b[1;32m      4\u001b[0m X_valid \u001b[38;5;241m=\u001b[39m val_df[[\u001b[38;5;124m'\u001b[39m\u001b[38;5;124mchnl_red\u001b[39m\u001b[38;5;124m'\u001b[39m, \u001b[38;5;124m'\u001b[39m\u001b[38;5;124mglcm\u001b[39m\u001b[38;5;124m'\u001b[39m]]\n",
      "File \u001b[0;32m/usr/local/lib/python3.8/dist-packages/pandas/core/frame.py:3511\u001b[0m, in \u001b[0;36mDataFrame.__getitem__\u001b[0;34m(self, key)\u001b[0m\n\u001b[1;32m   3509\u001b[0m     \u001b[38;5;28;01mif\u001b[39;00m is_iterator(key):\n\u001b[1;32m   3510\u001b[0m         key \u001b[38;5;241m=\u001b[39m \u001b[38;5;28mlist\u001b[39m(key)\n\u001b[0;32m-> 3511\u001b[0m     indexer \u001b[38;5;241m=\u001b[39m \u001b[38;5;28;43mself\u001b[39;49m\u001b[38;5;241;43m.\u001b[39;49m\u001b[43mcolumns\u001b[49m\u001b[38;5;241;43m.\u001b[39;49m\u001b[43m_get_indexer_strict\u001b[49m\u001b[43m(\u001b[49m\u001b[43mkey\u001b[49m\u001b[43m,\u001b[49m\u001b[43m \u001b[49m\u001b[38;5;124;43m\"\u001b[39;49m\u001b[38;5;124;43mcolumns\u001b[39;49m\u001b[38;5;124;43m\"\u001b[39;49m\u001b[43m)\u001b[49m[\u001b[38;5;241m1\u001b[39m]\n\u001b[1;32m   3513\u001b[0m \u001b[38;5;66;03m# take() does not accept boolean indexers\u001b[39;00m\n\u001b[1;32m   3514\u001b[0m \u001b[38;5;28;01mif\u001b[39;00m \u001b[38;5;28mgetattr\u001b[39m(indexer, \u001b[38;5;124m\"\u001b[39m\u001b[38;5;124mdtype\u001b[39m\u001b[38;5;124m\"\u001b[39m, \u001b[38;5;28;01mNone\u001b[39;00m) \u001b[38;5;241m==\u001b[39m \u001b[38;5;28mbool\u001b[39m:\n",
      "File \u001b[0;32m/usr/local/lib/python3.8/dist-packages/pandas/core/indexes/base.py:5796\u001b[0m, in \u001b[0;36mIndex._get_indexer_strict\u001b[0;34m(self, key, axis_name)\u001b[0m\n\u001b[1;32m   5793\u001b[0m \u001b[38;5;28;01melse\u001b[39;00m:\n\u001b[1;32m   5794\u001b[0m     keyarr, indexer, new_indexer \u001b[38;5;241m=\u001b[39m \u001b[38;5;28mself\u001b[39m\u001b[38;5;241m.\u001b[39m_reindex_non_unique(keyarr)\n\u001b[0;32m-> 5796\u001b[0m \u001b[38;5;28;43mself\u001b[39;49m\u001b[38;5;241;43m.\u001b[39;49m\u001b[43m_raise_if_missing\u001b[49m\u001b[43m(\u001b[49m\u001b[43mkeyarr\u001b[49m\u001b[43m,\u001b[49m\u001b[43m \u001b[49m\u001b[43mindexer\u001b[49m\u001b[43m,\u001b[49m\u001b[43m \u001b[49m\u001b[43maxis_name\u001b[49m\u001b[43m)\u001b[49m\n\u001b[1;32m   5798\u001b[0m keyarr \u001b[38;5;241m=\u001b[39m \u001b[38;5;28mself\u001b[39m\u001b[38;5;241m.\u001b[39mtake(indexer)\n\u001b[1;32m   5799\u001b[0m \u001b[38;5;28;01mif\u001b[39;00m \u001b[38;5;28misinstance\u001b[39m(key, Index):\n\u001b[1;32m   5800\u001b[0m     \u001b[38;5;66;03m# GH 42790 - Preserve name from an Index\u001b[39;00m\n",
      "File \u001b[0;32m/usr/local/lib/python3.8/dist-packages/pandas/core/indexes/base.py:5859\u001b[0m, in \u001b[0;36mIndex._raise_if_missing\u001b[0;34m(self, key, indexer, axis_name)\u001b[0m\n\u001b[1;32m   5856\u001b[0m     \u001b[38;5;28;01mraise\u001b[39;00m \u001b[38;5;167;01mKeyError\u001b[39;00m(\u001b[38;5;124mf\u001b[39m\u001b[38;5;124m\"\u001b[39m\u001b[38;5;124mNone of [\u001b[39m\u001b[38;5;132;01m{\u001b[39;00mkey\u001b[38;5;132;01m}\u001b[39;00m\u001b[38;5;124m] are in the [\u001b[39m\u001b[38;5;132;01m{\u001b[39;00maxis_name\u001b[38;5;132;01m}\u001b[39;00m\u001b[38;5;124m]\u001b[39m\u001b[38;5;124m\"\u001b[39m)\n\u001b[1;32m   5858\u001b[0m not_found \u001b[38;5;241m=\u001b[39m \u001b[38;5;28mlist\u001b[39m(ensure_index(key)[missing_mask\u001b[38;5;241m.\u001b[39mnonzero()[\u001b[38;5;241m0\u001b[39m]]\u001b[38;5;241m.\u001b[39munique())\n\u001b[0;32m-> 5859\u001b[0m \u001b[38;5;28;01mraise\u001b[39;00m \u001b[38;5;167;01mKeyError\u001b[39;00m(\u001b[38;5;124mf\u001b[39m\u001b[38;5;124m\"\u001b[39m\u001b[38;5;132;01m{\u001b[39;00mnot_found\u001b[38;5;132;01m}\u001b[39;00m\u001b[38;5;124m not in index\u001b[39m\u001b[38;5;124m\"\u001b[39m)\n",
      "\u001b[0;31mKeyError\u001b[0m: \"['chnl_red'] not in index\""
     ]
    }
   ],
   "source": [
    "X_train = train_df[['chnl_red', 'glcm']]\n",
    "y_train = train_df['labels']\n",
    "\n",
    "X_valid = val_df[['chnl_red', 'glcm']]\n",
    "y_valid = val_df['labels']"
   ]
  },
  {
   "cell_type": "markdown",
   "id": "690e7da4-d727-4c86-a647-07860fe8e9fc",
   "metadata": {},
   "source": [
    "#### Resampling by class of training dataset "
   ]
  },
  {
   "cell_type": "code",
   "execution_count": 5,
   "id": "685ed675-5d2b-4d8e-a152-d28d288a6ca6",
   "metadata": {},
   "outputs": [],
   "source": [
    "# image dataframe\n",
    "train_prq_path = \"oil_spill_training_dataset.parquet\"\n",
    "val_prq_path = \"oil_spill_validation_dataset.parquet\"\n",
    "datasets_2 = \"oil_spill_training_dataset-2.parquet\"\n",
    "train_df = pd.read_parquet(train_prq_path)\n",
    "train_df = pd.read_parquet(val_prq_path)\n",
    "train_df_2 = pd.read_parquet(datasets_2)\n",
    "train_df.shape, val_df.shape, train_df_2.shape"
   ]
  },
  {
   "cell_type": "code",
   "execution_count": 6,
   "id": "cebc901a-5700-448c-acfa-c04f0bc847ef",
   "metadata": {},
   "outputs": [],
   "source": [
    "%%time\n",
    "# Create an undersampler\n",
    "undersampler = RandomUnderSampler(sampling_strategy=sampling_strategy_dict, random_state=42)\n",
    "\n",
    "# Resample the dataset\n",
    "X_train_resampled, y_train_resampled = undersampler.fit_resample(X_train, y_train)"
   ]
  },
  {
   "cell_type": "code",
   "execution_count": 47,
   "id": "1cec9e48-3794-45f6-bdc4-5523ca28ccdc",
   "metadata": {},
   "outputs": [
    {
     "data": {
      "text/plain": [
       "((92160000, 2), (20439031, 2))"
      ]
     },
     "execution_count": 47,
     "metadata": {},
     "output_type": "execute_result"
    }
   ],
   "source": [
    "X_train.shape, X_train_resampled.shape"
   ]
  },
  {
   "cell_type": "code",
   "execution_count": 48,
   "id": "78498c8a-bb83-41dd-999d-8c3362e40dca",
   "metadata": {},
   "outputs": [
    {
     "data": {
      "text/plain": [
       "0    13358844\n",
       "1     5343538\n",
       "2     1335884\n",
       "3      333971\n",
       "4       66794\n",
       "Name: labels, dtype: int64"
      ]
     },
     "execution_count": 48,
     "metadata": {},
     "output_type": "execute_result"
    }
   ],
   "source": [
    "y_train_resampled.value_counts()"
   ]
  },
  {
   "cell_type": "code",
   "execution_count": 49,
   "id": "8fd09448-acb0-4715-a7b4-c07a0365994c",
   "metadata": {},
   "outputs": [
    {
     "data": {
      "text/plain": [
       "0    81732526\n",
       "1     6679422\n",
       "2     1897974\n",
       "3     1597893\n",
       "4      252185\n",
       "Name: labels, dtype: int64"
      ]
     },
     "execution_count": 49,
     "metadata": {},
     "output_type": "execute_result"
    }
   ],
   "source": [
    "y_train.value_counts()"
   ]
  },
  {
   "cell_type": "markdown",
   "id": "d0095166-0f52-4208-9d36-111a57031b9b",
   "metadata": {},
   "source": [
    "#### Model building "
   ]
  },
  {
   "cell_type": "code",
   "execution_count": 50,
   "id": "5b5b38f6-7b9c-4264-b0b1-bfe81a342a7b",
   "metadata": {},
   "outputs": [
    {
     "name": "stdout",
     "output_type": "stream",
     "text": [
      "CPU times: user 5h 18min 8s, sys: 7min 44s, total: 5h 25min 53s\n",
      "Wall time: 5min 45s\n"
     ]
    },
    {
     "data": {
      "text/html": [
       "<style>#sk-container-id-1 {color: black;background-color: white;}#sk-container-id-1 pre{padding: 0;}#sk-container-id-1 div.sk-toggleable {background-color: white;}#sk-container-id-1 label.sk-toggleable__label {cursor: pointer;display: block;width: 100%;margin-bottom: 0;padding: 0.3em;box-sizing: border-box;text-align: center;}#sk-container-id-1 label.sk-toggleable__label-arrow:before {content: \"▸\";float: left;margin-right: 0.25em;color: #696969;}#sk-container-id-1 label.sk-toggleable__label-arrow:hover:before {color: black;}#sk-container-id-1 div.sk-estimator:hover label.sk-toggleable__label-arrow:before {color: black;}#sk-container-id-1 div.sk-toggleable__content {max-height: 0;max-width: 0;overflow: hidden;text-align: left;background-color: #f0f8ff;}#sk-container-id-1 div.sk-toggleable__content pre {margin: 0.2em;color: black;border-radius: 0.25em;background-color: #f0f8ff;}#sk-container-id-1 input.sk-toggleable__control:checked~div.sk-toggleable__content {max-height: 200px;max-width: 100%;overflow: auto;}#sk-container-id-1 input.sk-toggleable__control:checked~label.sk-toggleable__label-arrow:before {content: \"▾\";}#sk-container-id-1 div.sk-estimator input.sk-toggleable__control:checked~label.sk-toggleable__label {background-color: #d4ebff;}#sk-container-id-1 div.sk-label input.sk-toggleable__control:checked~label.sk-toggleable__label {background-color: #d4ebff;}#sk-container-id-1 input.sk-hidden--visually {border: 0;clip: rect(1px 1px 1px 1px);clip: rect(1px, 1px, 1px, 1px);height: 1px;margin: -1px;overflow: hidden;padding: 0;position: absolute;width: 1px;}#sk-container-id-1 div.sk-estimator {font-family: monospace;background-color: #f0f8ff;border: 1px dotted black;border-radius: 0.25em;box-sizing: border-box;margin-bottom: 0.5em;}#sk-container-id-1 div.sk-estimator:hover {background-color: #d4ebff;}#sk-container-id-1 div.sk-parallel-item::after {content: \"\";width: 100%;border-bottom: 1px solid gray;flex-grow: 1;}#sk-container-id-1 div.sk-label:hover label.sk-toggleable__label {background-color: #d4ebff;}#sk-container-id-1 div.sk-serial::before {content: \"\";position: absolute;border-left: 1px solid gray;box-sizing: border-box;top: 0;bottom: 0;left: 50%;z-index: 0;}#sk-container-id-1 div.sk-serial {display: flex;flex-direction: column;align-items: center;background-color: white;padding-right: 0.2em;padding-left: 0.2em;position: relative;}#sk-container-id-1 div.sk-item {position: relative;z-index: 1;}#sk-container-id-1 div.sk-parallel {display: flex;align-items: stretch;justify-content: center;background-color: white;position: relative;}#sk-container-id-1 div.sk-item::before, #sk-container-id-1 div.sk-parallel-item::before {content: \"\";position: absolute;border-left: 1px solid gray;box-sizing: border-box;top: 0;bottom: 0;left: 50%;z-index: -1;}#sk-container-id-1 div.sk-parallel-item {display: flex;flex-direction: column;z-index: 1;position: relative;background-color: white;}#sk-container-id-1 div.sk-parallel-item:first-child::after {align-self: flex-end;width: 50%;}#sk-container-id-1 div.sk-parallel-item:last-child::after {align-self: flex-start;width: 50%;}#sk-container-id-1 div.sk-parallel-item:only-child::after {width: 0;}#sk-container-id-1 div.sk-dashed-wrapped {border: 1px dashed gray;margin: 0 0.4em 0.5em 0.4em;box-sizing: border-box;padding-bottom: 0.4em;background-color: white;}#sk-container-id-1 div.sk-label label {font-family: monospace;font-weight: bold;display: inline-block;line-height: 1.2em;}#sk-container-id-1 div.sk-label-container {text-align: center;}#sk-container-id-1 div.sk-container {/* jupyter's `normalize.less` sets `[hidden] { display: none; }` but bootstrap.min.css set `[hidden] { display: none !important; }` so we also need the `!important` here to be able to override the default hidden behavior on the sphinx rendered scikit-learn.org. See: https://github.com/scikit-learn/scikit-learn/issues/21755 */display: inline-block !important;position: relative;}#sk-container-id-1 div.sk-text-repr-fallback {display: none;}</style><div id=\"sk-container-id-1\" class=\"sk-top-container\"><div class=\"sk-text-repr-fallback\"><pre>RandomForestClassifier(n_estimators=200, n_jobs=-1, random_state=0)</pre><b>In a Jupyter environment, please rerun this cell to show the HTML representation or trust the notebook. <br />On GitHub, the HTML representation is unable to render, please try loading this page with nbviewer.org.</b></div><div class=\"sk-container\" hidden><div class=\"sk-item\"><div class=\"sk-estimator sk-toggleable\"><input class=\"sk-toggleable__control sk-hidden--visually\" id=\"sk-estimator-id-1\" type=\"checkbox\" checked><label for=\"sk-estimator-id-1\" class=\"sk-toggleable__label sk-toggleable__label-arrow\">RandomForestClassifier</label><div class=\"sk-toggleable__content\"><pre>RandomForestClassifier(n_estimators=200, n_jobs=-1, random_state=0)</pre></div></div></div></div></div>"
      ],
      "text/plain": [
       "RandomForestClassifier(n_estimators=200, n_jobs=-1, random_state=0)"
      ]
     },
     "execution_count": 50,
     "metadata": {},
     "output_type": "execute_result"
    }
   ],
   "source": [
    "%%time\n",
    "rf_model = RandomForestClassifier(n_estimators=200, max_depth=None, random_state=0, n_jobs=-1)\n",
    "# Train the model\n",
    "rf_model.fit(X_train_resampled, y_train_resampled)"
   ]
  },
  {
   "cell_type": "code",
   "execution_count": 51,
   "id": "c0faafbc-e1ba-40f7-b5f8-8b03889fcfde",
   "metadata": {},
   "outputs": [
    {
     "name": "stderr",
     "output_type": "stream",
     "text": [
      "/usr/local/lib/python3.8/dist-packages/sklearn/metrics/_classification.py:1327: UndefinedMetricWarning: Precision and F-score are ill-defined and being set to 0.0 in labels with no predicted samples. Use `zero_division` parameter to control this behavior.\n",
      "  _warn_prf(average, modifier, msg_start, len(result))\n",
      "/usr/local/lib/python3.8/dist-packages/sklearn/metrics/_classification.py:1327: UndefinedMetricWarning: Precision and F-score are ill-defined and being set to 0.0 in labels with no predicted samples. Use `zero_division` parameter to control this behavior.\n",
      "  _warn_prf(average, modifier, msg_start, len(result))\n"
     ]
    },
    {
     "name": "stdout",
     "output_type": "stream",
     "text": [
      "Overall Accuracy of base model:0.8680004404105393\n",
      "CPU times: user 7min 12s, sys: 1min 5s, total: 8min 18s\n",
      "Wall time: 40.2 s\n"
     ]
    },
    {
     "name": "stderr",
     "output_type": "stream",
     "text": [
      "/usr/local/lib/python3.8/dist-packages/sklearn/metrics/_classification.py:1327: UndefinedMetricWarning: Precision and F-score are ill-defined and being set to 0.0 in labels with no predicted samples. Use `zero_division` parameter to control this behavior.\n",
      "  _warn_prf(average, modifier, msg_start, len(result))\n"
     ]
    }
   ],
   "source": [
    "%%time\n",
    "# Make predictions on the validation set\n",
    "y_pred = rf_model.predict(X_valid)\n",
    "\n",
    "# Calculate accuracy\n",
    "accuracy = accuracy_score(y_valid, y_pred)\n",
    "# Generate a classification report\n",
    "report = classification_report(y_valid, y_pred)\n",
    "print(f'Overall Accuracy of base model:{accuracy}')"
   ]
  },
  {
   "cell_type": "markdown",
   "id": "cd47ce1b-76e1-4306-bbbc-037f1848d9bc",
   "metadata": {},
   "source": [
    "#### Accuracy Assessment "
   ]
  },
  {
   "cell_type": "code",
   "execution_count": 52,
   "id": "733e2211-4ee3-45d9-aab3-70e0b6d1c1aa",
   "metadata": {},
   "outputs": [
    {
     "data": {
      "text/html": [
       "<div>\n",
       "<style scoped>\n",
       "    .dataframe tbody tr th:only-of-type {\n",
       "        vertical-align: middle;\n",
       "    }\n",
       "\n",
       "    .dataframe tbody tr th {\n",
       "        vertical-align: top;\n",
       "    }\n",
       "\n",
       "    .dataframe thead th {\n",
       "        text-align: right;\n",
       "    }\n",
       "</style>\n",
       "<table border=\"1\" class=\"dataframe\">\n",
       "  <thead>\n",
       "    <tr style=\"text-align: right;\">\n",
       "      <th></th>\n",
       "      <th>Class</th>\n",
       "      <th>Precision</th>\n",
       "      <th>Recall</th>\n",
       "      <th>F1-Score</th>\n",
       "      <th>Support</th>\n",
       "    </tr>\n",
       "  </thead>\n",
       "  <tbody>\n",
       "    <tr>\n",
       "      <th>0</th>\n",
       "      <td>0</td>\n",
       "      <td>0.92</td>\n",
       "      <td>0.94</td>\n",
       "      <td>0.93</td>\n",
       "      <td>9337961.00</td>\n",
       "    </tr>\n",
       "    <tr>\n",
       "      <th>1</th>\n",
       "      <td>1</td>\n",
       "      <td>0.32</td>\n",
       "      <td>0.38</td>\n",
       "      <td>0.34</td>\n",
       "      <td>816494.00</td>\n",
       "    </tr>\n",
       "    <tr>\n",
       "      <th>2</th>\n",
       "      <td>2</td>\n",
       "      <td>0.22</td>\n",
       "      <td>0.00</td>\n",
       "      <td>0.00</td>\n",
       "      <td>154361.00</td>\n",
       "    </tr>\n",
       "    <tr>\n",
       "      <th>3</th>\n",
       "      <td>3</td>\n",
       "      <td>0.04</td>\n",
       "      <td>0.00</td>\n",
       "      <td>0.00</td>\n",
       "      <td>96344.00</td>\n",
       "    </tr>\n",
       "    <tr>\n",
       "      <th>4</th>\n",
       "      <td>4</td>\n",
       "      <td>0.00</td>\n",
       "      <td>0.00</td>\n",
       "      <td>0.00</td>\n",
       "      <td>39640.00</td>\n",
       "    </tr>\n",
       "  </tbody>\n",
       "</table>\n",
       "</div>"
      ],
      "text/plain": [
       "  Class  Precision  Recall  F1-Score    Support\n",
       "0     0       0.92    0.94      0.93 9337961.00\n",
       "1     1       0.32    0.38      0.34  816494.00\n",
       "2     2       0.22    0.00      0.00  154361.00\n",
       "3     3       0.04    0.00      0.00   96344.00\n",
       "4     4       0.00    0.00      0.00   39640.00"
      ]
     },
     "execution_count": 52,
     "metadata": {},
     "output_type": "execute_result"
    }
   ],
   "source": [
    "report_data = []\n",
    "lines = report.split('\\n')\n",
    "for line in lines[2:-3]:  # Skip header and footer lines\n",
    "    row_data = line.split()\n",
    "    if len(row_data) == 5:\n",
    "        class_name = row_data[0]\n",
    "        precision, recall, f1_score, support = [float(val) for val in row_data[1:]]\n",
    "        report_data.append({'Class': class_name, 'Precision': precision, 'Recall': recall, 'F1-Score': f1_score, 'Support': support})\n",
    "\n",
    "# Create a DataFrame from the list of dictionaries\n",
    "report_df = pd.DataFrame(report_data)\n",
    "\n",
    "report_df"
   ]
  },
  {
   "cell_type": "code",
   "execution_count": 125,
   "id": "342c88e7-174b-4e2e-96f5-5a71019aef6f",
   "metadata": {},
   "outputs": [
    {
     "data": {
      "text/plain": [
       "(array([0, 1], dtype=uint8), array([0, 1, 2], dtype=uint8))"
      ]
     },
     "execution_count": 125,
     "metadata": {},
     "output_type": "execute_result"
    }
   ],
   "source": [
    "idx=320*320\n",
    "np.unique(y_pred[idx*23:idx*24]), np.unique(y_valid[idx*23:idx*24])"
   ]
  },
  {
   "cell_type": "code",
   "execution_count": 1,
   "id": "3c739b21-2dc2-4361-9383-2843795e6877",
   "metadata": {},
   "outputs": [
    {
     "ename": "NameError",
     "evalue": "name 'y_pred' is not defined",
     "output_type": "error",
     "traceback": [
      "\u001b[0;31m---------------------------------------------------------------------------\u001b[0m",
      "\u001b[0;31mNameError\u001b[0m                                 Traceback (most recent call last)",
      "Cell \u001b[0;32mIn [1], line 3\u001b[0m\n\u001b[1;32m      1\u001b[0m idx \u001b[38;5;241m=\u001b[39m \u001b[38;5;241m102400\u001b[39m\n\u001b[1;32m      2\u001b[0m image_shape \u001b[38;5;241m=\u001b[39m (\u001b[38;5;241m320\u001b[39m, \u001b[38;5;241m320\u001b[39m)\n\u001b[0;32m----> 3\u001b[0m image_pred \u001b[38;5;241m=\u001b[39m y_pred[idx\u001b[38;5;241m*\u001b[39m\u001b[38;5;241m22\u001b[39m:idx\u001b[38;5;241m*\u001b[39m\u001b[38;5;241m23\u001b[39m]\u001b[38;5;241m.\u001b[39mreshape(image_shape)\n\u001b[1;32m      4\u001b[0m plt\u001b[38;5;241m.\u001b[39mimshow(image_pred)\n",
      "\u001b[0;31mNameError\u001b[0m: name 'y_pred' is not defined"
     ]
    }
   ],
   "source": [
    "idx = 102400\n",
    "image_shape = (320, 320)\n",
    "image_pred = y_pred[idx*22:idx*23].reshape(image_shape)\n",
    "plt.imshow(image_pred)"
   ]
  },
  {
   "cell_type": "code",
   "execution_count": 149,
   "id": "65a3ed3c-64d6-49ec-98d8-8c429754c7e8",
   "metadata": {},
   "outputs": [
    {
     "data": {
      "text/plain": [
       "<matplotlib.image.AxesImage at 0x7fb29c0fe370>"
      ]
     },
     "execution_count": 149,
     "metadata": {},
     "output_type": "execute_result"
    },
    {
     "data": {
      "image/png": "[encoded data removed]",
      "text/plain": [
       "<Figure size 640x480 with 1 Axes>"
      ]
     },
     "metadata": {},
     "output_type": "display_data"
    }
   ],
   "source": [
    "plt.imshow(np.array(y_valid[idx*75:idx*76]).reshape(image_shape))"
   ]
  },
  {
   "cell_type": "code",
   "execution_count": null,
   "id": "e2d1c247-f3d8-42af-8396-5482780214cb",
   "metadata": {},
   "outputs": [],
   "source": [
    "np.unique(image_pred-1), np.unique(np.array(y_valid[idx*2:idx*3]).reshape(image_shape))"
   ]
  },
  {
   "cell_type": "markdown",
   "id": "67d9c9a1-4e21-4346-a9bf-e419422f6a7f",
   "metadata": {},
   "source": [
    "### Model-2: Filter feature based"
   ]
  },
  {
   "cell_type": "markdown",
   "id": "20c60f9a-c520-49f1-8e16-c91aacfee1f7",
   "metadata": {},
   "source": [
    "#### Train Model calculation "
   ]
  },
  {
   "cell_type": "code",
   "execution_count": null,
   "id": "b7c84d34-b922-4085-a307-a7f6a7a2e037",
   "metadata": {},
   "outputs": [],
   "source": [
    "train_df.columns, val_df.shape"
   ]
  },
  {
   "cell_type": "code",
   "execution_count": 68,
   "id": "0f8bb1d5-ae02-4b8d-8d2c-660bb92769e6",
   "metadata": {},
   "outputs": [],
   "source": [
    "X_st_train = train_df[['chnl_red', 'filter_red', 'ers_red', 'glcm']]\n",
    "y_st_train = train_df['labels']\n",
    "\n",
    "X_st_val = val_df[['chnl_red', 'filter_red', 'ers_red', 'glcm']]\n",
    "y_st_val = val_df['labels']"
   ]
  },
  {
   "cell_type": "code",
   "execution_count": null,
   "id": "7a142b63-1576-4a44-bd80-778b5531d375",
   "metadata": {},
   "outputs": [],
   "source": [
    "sampling_strategy_dict = {\n",
    "    0: y_train.values()[1]*2,\n",
    "    1:round(y_train.values()[1]*0.8)\n",
    "    2:round(y_train.values()[1]*0.2)\n",
    "    3:round(y_train.values()[1]*0.05)\n",
    "    4:round(y_train.values()[1]*0.01)\n",
    "}\n",
    "    "
   ]
  },
  {
   "cell_type": "code",
   "execution_count": 69,
   "id": "9128d929-6c94-4313-bcc0-a7ed111592ad",
   "metadata": {},
   "outputs": [
    {
     "name": "stdout",
     "output_type": "stream",
     "text": [
      "CPU times: user 27.7 s, sys: 4.43 s, total: 32.2 s\n",
      "Wall time: 32.1 s\n"
     ]
    }
   ],
   "source": [
    "%%time\n",
    "# Create an undersampler\n",
    "undersampler = RandomUnderSampler(sampling_strategy=sampling_strategy_dict, random_state=42)\n",
    "\n",
    "# Resample the dataset\n",
    "X_st_train_resampled, y_st_train_resampled = undersampler.fit_resample(X_st_train, y_st_train)"
   ]
  },
  {
   "cell_type": "code",
   "execution_count": 70,
   "id": "5919a0f0-d6e8-4c08-b52d-9be9ff5aee4b",
   "metadata": {},
   "outputs": [
    {
     "data": {
      "text/plain": [
       "(20439031, 4)"
      ]
     },
     "execution_count": 70,
     "metadata": {},
     "output_type": "execute_result"
    }
   ],
   "source": [
    "X_st_train_resampled.shape"
   ]
  },
  {
   "cell_type": "code",
   "execution_count": 71,
   "id": "c97e8515-6bb8-4859-8440-2ab6bc56c018",
   "metadata": {},
   "outputs": [
    {
     "data": {
      "text/plain": [
       "0    13358844\n",
       "1     5343538\n",
       "2     1335884\n",
       "3      333971\n",
       "4       66794\n",
       "Name: labels, dtype: int64"
      ]
     },
     "execution_count": 71,
     "metadata": {},
     "output_type": "execute_result"
    }
   ],
   "source": [
    "y_st_train_resampled.value_counts()"
   ]
  },
  {
   "cell_type": "code",
   "execution_count": 72,
   "id": "fd786591-5d9a-4508-a01d-9d5229028d2d",
   "metadata": {},
   "outputs": [
    {
     "name": "stdout",
     "output_type": "stream",
     "text": [
      "CPU times: user 9h 52min 59s, sys: 10min 46s, total: 10h 3min 46s\n",
      "Wall time: 10min 17s\n"
     ]
    }
   ],
   "source": [
    "%%time\n",
    "st_rf_model = RandomForestClassifier(n_estimators=200, max_depth=None, random_state=0, n_jobs=-1)\n",
    "st_rf_model.fit(X_st_train_resampled, y_st_train_resampled)\n",
    "# Make predictions on the validation set\n",
    "y_st_pred = st_rf_model.predict(X_st_val)"
   ]
  },
  {
   "cell_type": "code",
   "execution_count": 73,
   "id": "09680434-1af2-46a9-8006-2534ba793e6a",
   "metadata": {},
   "outputs": [
    {
     "data": {
      "text/plain": [
       "0.8770795036764706"
      ]
     },
     "execution_count": 73,
     "metadata": {},
     "output_type": "execute_result"
    }
   ],
   "source": [
    "# Calculate accuracy\n",
    "st_accuracy = accuracy_score(y_st_val, y_st_pred)\n",
    "# Generate a classification report\n",
    "st_report = classification_report(y_st_val, y_st_pred)\n",
    "st_accuracy"
   ]
  },
  {
   "cell_type": "code",
   "execution_count": 74,
   "id": "ab1e3435-af51-4984-a9ee-6fbea27f10ac",
   "metadata": {},
   "outputs": [
    {
     "data": {
      "text/html": [
       "<div>\n",
       "<style scoped>\n",
       "    .dataframe tbody tr th:only-of-type {\n",
       "        vertical-align: middle;\n",
       "    }\n",
       "\n",
       "    .dataframe tbody tr th {\n",
       "        vertical-align: top;\n",
       "    }\n",
       "\n",
       "    .dataframe thead th {\n",
       "        text-align: right;\n",
       "    }\n",
       "</style>\n",
       "<table border=\"1\" class=\"dataframe\">\n",
       "  <thead>\n",
       "    <tr style=\"text-align: right;\">\n",
       "      <th></th>\n",
       "      <th>Class</th>\n",
       "      <th>Precision</th>\n",
       "      <th>Recall</th>\n",
       "      <th>F1-Score</th>\n",
       "      <th>Support</th>\n",
       "    </tr>\n",
       "  </thead>\n",
       "  <tbody>\n",
       "    <tr>\n",
       "      <th>0</th>\n",
       "      <td>0</td>\n",
       "      <td>0.94</td>\n",
       "      <td>0.94</td>\n",
       "      <td>0.94</td>\n",
       "      <td>9337961.00</td>\n",
       "    </tr>\n",
       "    <tr>\n",
       "      <th>1</th>\n",
       "      <td>1</td>\n",
       "      <td>0.37</td>\n",
       "      <td>0.47</td>\n",
       "      <td>0.42</td>\n",
       "      <td>816494.00</td>\n",
       "    </tr>\n",
       "    <tr>\n",
       "      <th>2</th>\n",
       "      <td>2</td>\n",
       "      <td>0.32</td>\n",
       "      <td>0.19</td>\n",
       "      <td>0.23</td>\n",
       "      <td>154361.00</td>\n",
       "    </tr>\n",
       "    <tr>\n",
       "      <th>3</th>\n",
       "      <td>3</td>\n",
       "      <td>0.02</td>\n",
       "      <td>0.00</td>\n",
       "      <td>0.00</td>\n",
       "      <td>96344.00</td>\n",
       "    </tr>\n",
       "    <tr>\n",
       "      <th>4</th>\n",
       "      <td>4</td>\n",
       "      <td>0.02</td>\n",
       "      <td>0.00</td>\n",
       "      <td>0.00</td>\n",
       "      <td>39640.00</td>\n",
       "    </tr>\n",
       "  </tbody>\n",
       "</table>\n",
       "</div>"
      ],
      "text/plain": [
       "  Class  Precision  Recall  F1-Score    Support\n",
       "0     0       0.94    0.94      0.94 9337961.00\n",
       "1     1       0.37    0.47      0.42  816494.00\n",
       "2     2       0.32    0.19      0.23  154361.00\n",
       "3     3       0.02    0.00      0.00   96344.00\n",
       "4     4       0.02    0.00      0.00   39640.00"
      ]
     },
     "execution_count": 74,
     "metadata": {},
     "output_type": "execute_result"
    }
   ],
   "source": [
    "st_report_data = []\n",
    "lines = st_report.split('\\n')\n",
    "for line in lines[2:-3]:  # Skip header and footer lines\n",
    "    row_data = line.split()\n",
    "    if len(row_data) == 5:\n",
    "        class_name = row_data[0]\n",
    "        precision, recall, f1_score, support = [float(val) for val in row_data[1:]]\n",
    "        st_report_data.append({'Class': class_name, 'Precision': precision, 'Recall': recall, 'F1-Score': f1_score, 'Support': support})\n",
    "\n",
    "# Create a DataFrame from the list of dictionaries\n",
    "st_report_df = pd.DataFrame(st_report_data)\n",
    "\n",
    "st_report_df"
   ]
  },
  {
   "cell_type": "code",
   "execution_count": 124,
   "id": "48d50166-6b0b-4462-bcd5-67d29cd64562",
   "metadata": {},
   "outputs": [
    {
     "data": {
      "text/plain": [
       "array([0, 1, 2], dtype=uint8)"
      ]
     },
     "execution_count": 124,
     "metadata": {},
     "output_type": "execute_result"
    }
   ],
   "source": [
    "np.unique(y_st_pred[idx*39:idx*40])"
   ]
  },
  {
   "cell_type": "code",
   "execution_count": 122,
   "id": "bf57440f-650a-400c-be1a-6ca3ec592282",
   "metadata": {},
   "outputs": [
    {
     "data": {
      "text/plain": [
       "array([0, 1], dtype=uint8)"
      ]
     },
     "execution_count": 122,
     "metadata": {},
     "output_type": "execute_result"
    }
   ],
   "source": [
    "np.unique(y_st_val[idx*39:idx*40])"
   ]
  },
  {
   "cell_type": "code",
   "execution_count": 150,
   "id": "ef92df31-b24a-4c8e-a4bf-8687d1639039",
   "metadata": {},
   "outputs": [
    {
     "data": {
      "text/plain": [
       "<matplotlib.image.AxesImage at 0x7fb29c07b340>"
      ]
     },
     "execution_count": 150,
     "metadata": {},
     "output_type": "execute_result"
    },
    {
     "data": {
      "image/png": "[encoded data removed]",
      "text/plain": [
       "<Figure size 640x480 with 1 Axes>"
      ]
     },
     "metadata": {},
     "output_type": "display_data"
    }
   ],
   "source": [
    "idx = 102400\n",
    "image_shape = (320, 320)\n",
    "image_pred = y_st_pred[idx*75:idx*76].reshape(image_shape)\n",
    "plt.imshow(image_pred)"
   ]
  },
  {
   "cell_type": "code",
   "execution_count": 151,
   "id": "c60f79dd-5d04-41a3-aa59-5060c66c737c",
   "metadata": {},
   "outputs": [
    {
     "data": {
      "text/plain": [
       "(array([0, 1, 2, 3, 4], dtype=uint8), array([0, 1, 2], dtype=uint8))"
      ]
     },
     "execution_count": 151,
     "metadata": {},
     "output_type": "execute_result"
    }
   ],
   "source": [
    "np.unique(y_st_pred[idx*75:idx*76]), np.unique(y_st_val[idx*75:idx*76])"
   ]
  },
  {
   "cell_type": "code",
   "execution_count": 152,
   "id": "5eda562e-0d40-47d0-9186-7ba57ccf229d",
   "metadata": {},
   "outputs": [
    {
     "data": {
      "text/plain": [
       "<matplotlib.image.AxesImage at 0x7fb29c06cbb0>"
      ]
     },
     "execution_count": 152,
     "metadata": {},
     "output_type": "execute_result"
    },
    {
     "data": {
      "image/png": "[encoded data removed]",
      "text/plain": [
       "<Figure size 640x480 with 1 Axes>"
      ]
     },
     "metadata": {},
     "output_type": "display_data"
    }
   ],
   "source": [
    "plt.imshow(np.array(y_st_val[idx*75:idx*76]).reshape(image_shape))"
   ]
  },
  {
   "cell_type": "markdown",
   "id": "e29a892a-a92d-45d4-8992-fb89f74b3498",
   "metadata": {},
   "source": [
    "### Model Tuning "
   ]
  },
  {
   "cell_type": "code",
   "execution_count": 153,
   "id": "cbbc1649-08ea-442b-8a40-a5c047b1245b",
   "metadata": {},
   "outputs": [
    {
     "name": "stdout",
     "output_type": "stream",
     "text": [
      "CPU times: user 1d 49min 37s, sys: 18min 42s, total: 1d 1h 8min 20s\n",
      "Wall time: 23min 24s\n"
     ]
    }
   ],
   "source": [
    "%%time\n",
    "st_rf_model5 = RandomForestClassifier(n_estimators=500, max_depth=None, random_state=44, n_jobs=-1)\n",
    "st_rf_model5.fit(X_st_train_resampled, y_st_train_resampled)\n"
   ]
  },
  {
   "cell_type": "code",
   "execution_count": 157,
   "id": "1f671c65-2c1b-415d-880d-63198e058f28",
   "metadata": {},
   "outputs": [
    {
     "data": {
      "text/plain": [
       "0.8770300053615196"
      ]
     },
     "execution_count": 157,
     "metadata": {},
     "output_type": "execute_result"
    }
   ],
   "source": [
    "# Make predictions on the validation set\n",
    "y_st_pred5 = st_rf_model5.predict(X_st_val)\n",
    "# Calculate accuracy\n",
    "st5_accuracy = accuracy_score(y_st_val, y_st_pred5)\n",
    "# Generate a classification report\n",
    "st5_report = classification_report(y_st_val, y_st_pred5)\n",
    "st5_accuracy"
   ]
  },
  {
   "cell_type": "code",
   "execution_count": 158,
   "id": "ee67e969-fa90-4ac2-bf80-20a2057c93d9",
   "metadata": {},
   "outputs": [
    {
     "data": {
      "text/html": [
       "<div>\n",
       "<style scoped>\n",
       "    .dataframe tbody tr th:only-of-type {\n",
       "        vertical-align: middle;\n",
       "    }\n",
       "\n",
       "    .dataframe tbody tr th {\n",
       "        vertical-align: top;\n",
       "    }\n",
       "\n",
       "    .dataframe thead th {\n",
       "        text-align: right;\n",
       "    }\n",
       "</style>\n",
       "<table border=\"1\" class=\"dataframe\">\n",
       "  <thead>\n",
       "    <tr style=\"text-align: right;\">\n",
       "      <th></th>\n",
       "      <th>Class</th>\n",
       "      <th>Precision</th>\n",
       "      <th>Recall</th>\n",
       "      <th>F1-Score</th>\n",
       "      <th>Support</th>\n",
       "    </tr>\n",
       "  </thead>\n",
       "  <tbody>\n",
       "    <tr>\n",
       "      <th>0</th>\n",
       "      <td>0</td>\n",
       "      <td>0.94</td>\n",
       "      <td>0.94</td>\n",
       "      <td>0.94</td>\n",
       "      <td>9337961.00</td>\n",
       "    </tr>\n",
       "    <tr>\n",
       "      <th>1</th>\n",
       "      <td>1</td>\n",
       "      <td>0.37</td>\n",
       "      <td>0.47</td>\n",
       "      <td>0.42</td>\n",
       "      <td>816494.00</td>\n",
       "    </tr>\n",
       "    <tr>\n",
       "      <th>2</th>\n",
       "      <td>2</td>\n",
       "      <td>0.32</td>\n",
       "      <td>0.19</td>\n",
       "      <td>0.23</td>\n",
       "      <td>154361.00</td>\n",
       "    </tr>\n",
       "    <tr>\n",
       "      <th>3</th>\n",
       "      <td>3</td>\n",
       "      <td>0.02</td>\n",
       "      <td>0.00</td>\n",
       "      <td>0.00</td>\n",
       "      <td>96344.00</td>\n",
       "    </tr>\n",
       "    <tr>\n",
       "      <th>4</th>\n",
       "      <td>4</td>\n",
       "      <td>0.02</td>\n",
       "      <td>0.00</td>\n",
       "      <td>0.00</td>\n",
       "      <td>39640.00</td>\n",
       "    </tr>\n",
       "  </tbody>\n",
       "</table>\n",
       "</div>"
      ],
      "text/plain": [
       "  Class  Precision  Recall  F1-Score    Support\n",
       "0     0       0.94    0.94      0.94 9337961.00\n",
       "1     1       0.37    0.47      0.42  816494.00\n",
       "2     2       0.32    0.19      0.23  154361.00\n",
       "3     3       0.02    0.00      0.00   96344.00\n",
       "4     4       0.02    0.00      0.00   39640.00"
      ]
     },
     "execution_count": 158,
     "metadata": {},
     "output_type": "execute_result"
    }
   ],
   "source": [
    "st5_report_data = []\n",
    "lines = st5_report.split('\\n')\n",
    "for line in lines[2:-3]:  # Skip header and footer lines\n",
    "    row_data = line.split()\n",
    "    if len(row_data) == 5:\n",
    "        class_name = row_data[0]\n",
    "        precision, recall, f1_score, support = [float(val) for val in row_data[1:]]\n",
    "        st5_report_data.append({'Class': class_name, 'Precision': precision, 'Recall': recall, 'F1-Score': f1_score, 'Support': support})\n",
    "\n",
    "# Create a DataFrame from the list of dictionaries\n",
    "st5_report_df = pd.DataFrame(st5_report_data)\n",
    "\n",
    "st5_report_df"
   ]
  },
  {
   "cell_type": "code",
   "execution_count": 159,
   "id": "43c1bc35-5458-4e3a-8e80-3f0e3ae71865",
   "metadata": {},
   "outputs": [
    {
     "data": {
      "text/plain": [
       "<matplotlib.image.AxesImage at 0x7fb2868833a0>"
      ]
     },
     "execution_count": 159,
     "metadata": {},
     "output_type": "execute_result"
    },
    {
     "data": {
      "image/png": "[encoded data removed]",
      "text/plain": [
       "<Figure size 640x480 with 1 Axes>"
      ]
     },
     "metadata": {},
     "output_type": "display_data"
    }
   ],
   "source": [
    "image_pred5 = y_st_pred5[idx*75:idx*76].reshape(image_shape)\n",
    "plt.imshow(image_pred5)"
   ]
  },
  {
   "cell_type": "code",
   "execution_count": null,
   "id": "09c210e0-61ec-432c-ace0-3d75835b96d7",
   "metadata": {},
   "outputs": [],
   "source": []
  }
 ],
 "metadata": {
  "kernelspec": {
   "display_name": "Python",
   "language": "python",
   "name": "python3"
  },
  "language_info": {
   "codemirror_mode": {
    "name": "ipython",
    "version": 3
   },
   "file_extension": ".py",
   "mimetype": "text/x-python",
   "name": "python",
   "nbconvert_exporter": "python",
   "pygments_lexer": "ipython3",
   "version": "3.8.10"
  }
 },
 "nbformat": 4,
 "nbformat_minor": 5
}
